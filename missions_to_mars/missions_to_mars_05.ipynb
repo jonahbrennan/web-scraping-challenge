{
 "cells": [
  {
   "cell_type": "code",
   "execution_count": 1,
   "metadata": {},
   "outputs": [],
   "source": [
    "# from __future__ import print_function, division\n",
    "import pandas as pd\n",
    "from splinter import Browser\n",
    "from bs4 import BeautifulSoup as bs\n",
    "import time\n",
    "import os\n",
    "import webbrowser\n",
    "import requests\n",
    "import pprint\n",
    "# import json\n",
    "from flask import Flask, jsonify, render_template, redirect\n",
    "from flask_pymongo import PyMongo as pymongo\n",
    "# import logging\n",
    "# logging.basicConfig(level=logging.DEBUG, format='%(asctime)s - %(levelname)s - %(message)s')\n",
    "# logging.debug('This is a log message.')\n"
   ]
  },
  {
   "cell_type": "code",
   "execution_count": 6,
   "metadata": {},
   "outputs": [
    {
     "name": "stdout",
     "output_type": "stream",
     "text": [
      "NASA's Curiosity Rover Finds an Ancient Oasis on Mars\n",
      "New evidence suggests salty, shallow ponds once dotted a Martian crater — a sign of the planet's drying climate.\n"
     ]
    }
   ],
   "source": [
    "\n",
    "def init_browser():\n",
    "    # @NOTE: Replace the path with your actual path to the chromedriver\n",
    "    executable_path = {\"executable_path\": \"chromedriver.exe\"}\n",
    "    return Browser(\"chrome\", **executable_path, headless=False)\n",
    "def scrape_info():\n",
    "    browser = init_browser()\n",
    "    url = 'https://mars.nasa.gov/news'\n",
    "    browser.visit(url)\n",
    "    time.sleep(1)\n",
    "    # Scrape page into Soup\n",
    "    html = browser.html\n",
    "    soup = bs(html, \"html.parser\")\n",
    "#     results = soup.find_all('div', class_='article_teaser_body')\n",
    "#     results = soup.find('div', class_='content_title').text\n",
    "    results1 = soup.find('div', class_='content_title').text\n",
    "    results2 = soup.find('div', class_='article_teaser_body').text\n",
    "\n",
    "    print(results1)\n",
    "    print(results2)\n",
    "\n",
    "#     for result in results:\n",
    "#         news_titles = result.find('div', class_='content_title').text\n",
    "#         print(news_titles)\n",
    "\n",
    "    browser.quit()\n",
    "\n",
    "    return results1, results2\n",
    "\n",
    "# scrape_info()\n",
    "x = scrape_info()\n",
    "# print(x)\n"
   ]
  },
  {
   "cell_type": "code",
   "execution_count": 7,
   "metadata": {},
   "outputs": [
    {
     "name": "stdout",
     "output_type": "stream",
     "text": [
      "NASA's Curiosity Rover Finds an Ancient Oasis on Mars\n",
      "New evidence suggests salty, shallow ponds once dotted a Martian crater — a sign of the planet's drying climate.\n"
     ]
    },
    {
     "data": {
      "text/plain": [
       "[{'headline': \"NASA's Curiosity Rover Finds an Ancient Oasis on Mars\"},\n",
       " {'teaser': \"New evidence suggests salty, shallow ponds once dotted a Martian crater — a sign of the planet's drying climate.\"}]"
      ]
     },
     "execution_count": 7,
     "metadata": {},
     "output_type": "execute_result"
    }
   ],
   "source": [
    "\n",
    "print(x[0])\n",
    "print(x[1])\n",
    "type(x)\n",
    "mars_headline = [{\"headline\": x[0]},\n",
    "              {\"teaser\": x[1]}\n",
    "             ]\n",
    "mars_headline"
   ]
  },
  {
   "cell_type": "code",
   "execution_count": 92,
   "metadata": {},
   "outputs": [
    {
     "data": {
      "text/plain": [
       "'InSight sol 314 (2019-10-15) low -102.8ºC (-153.0ºF) high -24.8ºC (-12.6ºF)\\nwinds from the SSE at 4.9 m/s (11.1 mph) gusting to 19.7 m/s (44.0 mph)\\npressure at 7.20 hPapic.twitter.com/VONawbIeG4'"
      ]
     },
     "execution_count": 92,
     "metadata": {},
     "output_type": "execute_result"
    }
   ],
   "source": [
    "def init_browser():\n",
    "    # @NOTE: Replace the path with your actual path to the chromedriver\n",
    "    executable_path = {\"executable_path\": \"chromedriver.exe\"}\n",
    "    return Browser(\"chrome\", **executable_path, headless=False)\n",
    "def scrape_info():\n",
    "    browser = init_browser()\n",
    "    url = 'https://twitter.com/marswxreport?lang=en'\n",
    "    browser.visit(url)\n",
    "    time.sleep(1)\n",
    "    # Scrape page into Soup\n",
    "    html = browser.html\n",
    "    soup = bs(html, \"lxml\")\n",
    "    mars_weather = soup.body.find('p', class_=\"TweetTextSize\").text  \n",
    "    browser.quit()\n",
    "    return mars_weather\n",
    "scrape_info()"
   ]
  },
  {
   "cell_type": "code",
   "execution_count": 94,
   "metadata": {},
   "outputs": [
    {
     "ename": "NameError",
     "evalue": "name 'mars_weather' is not defined",
     "output_type": "error",
     "traceback": [
      "\u001b[1;31m---------------------------------------------------------------------------\u001b[0m",
      "\u001b[1;31mNameError\u001b[0m                                 Traceback (most recent call last)",
      "\u001b[1;32m<ipython-input-94-c7db80a6adb4>\u001b[0m in \u001b[0;36m<module>\u001b[1;34m\u001b[0m\n\u001b[1;32m----> 1\u001b[1;33m \u001b[0mprint\u001b[0m\u001b[1;33m(\u001b[0m\u001b[0mmars_weather\u001b[0m\u001b[1;33m)\u001b[0m\u001b[1;33m\u001b[0m\u001b[1;33m\u001b[0m\u001b[0m\n\u001b[0m",
      "\u001b[1;31mNameError\u001b[0m: name 'mars_weather' is not defined"
     ]
    }
   ],
   "source": [
    "print(mars_weather)\n"
   ]
  },
  {
   "cell_type": "code",
   "execution_count": 336,
   "metadata": {},
   "outputs": [
    {
     "name": "stdout",
     "output_type": "stream",
     "text": [
      "/spaceimages/images/mediumsize/PIA17794_ip.jpg\n"
     ]
    }
   ],
   "source": [
    "# BUild the featured image route\n",
    "\n",
    "def init_browser():\n",
    "    # @NOTE: Replace the path with your actual path to the chromedriver\n",
    "    executable_path = {\"executable_path\": \"chromedriver.exe\"}\n",
    "    return Browser(\"chrome\", **executable_path, headless=False)\n",
    "def scrape_img_info():\n",
    "    browser = init_browser()\n",
    "    # Visit visitcostarica.herokuapp.com\n",
    "    url = 'https://www.jpl.nasa.gov/spaceimages/?search=&category=Mars'\n",
    "    browser.visit(url)\n",
    "    time.sleep(1)\n",
    "    # Scrape page into Soup\n",
    "    html = browser.html\n",
    "    soup = bs(html, \"html.parser\")\n",
    "\n",
    "#     results1 = soup.find('div', class_='content_title').text\n",
    "#     results2 = soup.find('div', class_='article_teaser_body').text\n",
    "    jpl_img_route = soup.find('a', class_='fancybox').get('data-fancybox-href')\n",
    "\n",
    "    print(jpl_img_route)\n",
    "\n",
    "#     for result in results:\n",
    "#         news_titles = result.find('div', class_='content_title').text\n",
    "#         print(news_titles)\n",
    "\n",
    "#     browser.quit()\n",
    "\n",
    "    return jpl_img_route\n",
    "\n",
    "# scrape_info()\n",
    "jpl_img_route = scrape_img_info()\n",
    "# print(x)\n",
    "\n"
   ]
  },
  {
   "cell_type": "code",
   "execution_count": 338,
   "metadata": {},
   "outputs": [
    {
     "name": "stdout",
     "output_type": "stream",
     "text": [
      "https://www.jpl.nasa.gov/spaceimages/images/largesize/PIA17794_hires.jpg\n"
     ]
    }
   ],
   "source": [
    "# Build the proper hires img route\n",
    "hires_img = jpl_img_route.replace(\"mediumsize\",\"largesize\")\n",
    "hires_img = hires_img.replace(hires_img[-6:],\"hires.jpg\")\n",
    "mars_hires_img = hires_img.replace(\"/spaceimages\",\"https://www.jpl.nasa.gov/spaceimages\")\n",
    "print(mars_hires_img)\n"
   ]
  },
  {
   "cell_type": "code",
   "execution_count": 340,
   "metadata": {},
   "outputs": [
    {
     "name": "stdout",
     "output_type": "stream",
     "text": [
      "Equatorial Diameter:6,792 km\n",
      "Polar Diameter:6,752 km\n",
      "Mass:6.39 × 10^23 kg (0.11 Earths)\n",
      "Moons:2 (Phobos & Deimos)\n",
      "Orbit Distance:227,943,824 km (1.38 AU)\n",
      "Orbit Period:687 days (1.9 years)\n",
      "Surface Temperature: -87 to -5 °C\n",
      "First Record:2nd millennium BC\n",
      "Recorded By:Egyptian astronomers\n"
     ]
    }
   ],
   "source": [
    "# BUild the Mars Facts\n",
    "\n",
    "def init_browser():\n",
    "    # @NOTE: Replace the path with your actual path to the chromedriver\n",
    "    executable_path = {\"executable_path\": \"chromedriver.exe\"}\n",
    "    return Browser(\"chrome\", **executable_path, headless=False)\n",
    "def scrape_facts_info():\n",
    "    browser = init_browser()\n",
    "    \n",
    "    url = 'https://space-facts.com/mars/'\n",
    "    browser.visit(url)\n",
    "    time.sleep(1)\n",
    "    # Scrape page into Soup\n",
    "    html = browser.html\n",
    "    soup = bs(html, \"html.parser\")\n",
    "    all_facts = []\n",
    "    facts_1 = soup.find('table', id=\"tablepress-p-mars\").find('tr', class_=\"row-1\").text\n",
    "    all_facts.append(facts_1)\n",
    "    facts_2 = soup.find('table', id=\"tablepress-p-mars\").find('tr', class_=\"row-2\").text\n",
    "    all_facts.append(facts_2)\n",
    "    facts_3 = soup.find('table', id=\"tablepress-p-mars\").find('tr', class_=\"row-3\").text\n",
    "    all_facts.append(facts_3)\n",
    "    facts_4 = soup.find('table', id=\"tablepress-p-mars\").find('tr', class_=\"row-4\").text\n",
    "    all_facts.append(facts_4)\n",
    "    facts_5 = soup.find('table', id=\"tablepress-p-mars\").find('tr', class_=\"row-5\").text\n",
    "    all_facts.append(facts_5)\n",
    "    facts_6 = soup.find('table', id=\"tablepress-p-mars\").find('tr', class_=\"row-6\").text\n",
    "    all_facts.append(facts_6)\n",
    "    facts_7 = soup.find('table', id=\"tablepress-p-mars\").find('tr', class_=\"row-7\").text\n",
    "    all_facts.append(facts_7)\n",
    "    facts_8 = soup.find('table', id=\"tablepress-p-mars\").find('tr', class_=\"row-8\").text\n",
    "    all_facts.append(facts_8)\n",
    "    facts_9 = soup.find('table', id=\"tablepress-p-mars\").find('tr', class_=\"row-9\").text\n",
    "    all_facts.append(facts_9)\n",
    "#     print(facts_1 +'\\n'+ facts_2)\n",
    "\n",
    "    for fact in all_facts:\n",
    "        print(fact)\n",
    "\n",
    "    browser.quit()\n",
    "\n",
    "    return all_facts\n",
    "#     return\n",
    "\n",
    "\n",
    "mars_facts = scrape_facts_info()\n",
    "# mars_facts_info = scrape_img_info()"
   ]
  },
  {
   "cell_type": "code",
   "execution_count": 341,
   "metadata": {},
   "outputs": [
    {
     "data": {
      "text/plain": [
       "['Equatorial Diameter:6,792 km',\n",
       " 'Polar Diameter:6,752 km',\n",
       " 'Mass:6.39 × 10^23 kg (0.11 Earths)',\n",
       " 'Moons:2 (Phobos & Deimos)',\n",
       " 'Orbit Distance:227,943,824 km (1.38 AU)',\n",
       " 'Orbit Period:687 days (1.9 years)',\n",
       " 'Surface Temperature: -87 to -5 °C',\n",
       " 'First Record:2nd millennium BC',\n",
       " 'Recorded By:Egyptian astronomers']"
      ]
     },
     "execution_count": 341,
     "metadata": {},
     "output_type": "execute_result"
    }
   ],
   "source": [
    "type(mars_facts)\n",
    "mars_facts"
   ]
  },
  {
   "cell_type": "code",
   "execution_count": 342,
   "metadata": {},
   "outputs": [
    {
     "data": {
      "text/plain": [
       "'<table border=\"1\" class=\"dataframe\">  <thead>    <tr style=\"text-align: right;\">      <th></th>      <th>Mars</th>      <th>Fact</th>    </tr>  </thead>  <tbody>    <tr>      <th>0</th>      <td>Equatorial Diameter:</td>      <td>6,792 km</td>    </tr>    <tr>      <th>1</th>      <td>Polar Diameter:</td>      <td>6,752 km</td>    </tr>    <tr>      <th>2</th>      <td>Mass:</td>      <td>6.39 × 10^23 kg (0.11 Earths)</td>    </tr>    <tr>      <th>3</th>      <td>Moons:</td>      <td>2 (Phobos &amp; Deimos)</td>    </tr>    <tr>      <th>4</th>      <td>Orbit Distance:</td>      <td>227,943,824 km (1.38 AU)</td>    </tr>    <tr>      <th>5</th>      <td>Orbit Period:</td>      <td>687 days (1.9 years)</td>    </tr>    <tr>      <th>6</th>      <td>Surface Temperature:</td>      <td>-87 to -5 °C</td>    </tr>    <tr>      <th>7</th>      <td>First Record:</td>      <td>2nd millennium BC</td>    </tr>    <tr>      <th>8</th>      <td>Recorded By:</td>      <td>Egyptian astronomers</td>    </tr>  </tbody></table>'"
      ]
     },
     "execution_count": 342,
     "metadata": {},
     "output_type": "execute_result"
    }
   ],
   "source": [
    "url = 'https://space-facts.com/mars/'\n",
    "tables = pd.read_html(url)\n",
    "# type(tables)\n",
    "mars_facts_df = tables[1]   # [0] sets it to pull from the first table \n",
    "mars_facts_df.columns = ['Mars', 'Fact',]\n",
    "# mars_facts_df\n",
    "mars_facts_html_table = mars_facts_df.to_html()\n",
    "mars_facts_html_table = mars_facts_html_table.replace('\\n', '')\n",
    "\n",
    "mars_facts_df.to_html('mars_facts_table.html')\n",
    "\n",
    "url = 'mars_facts_table.html'\n",
    "webbrowser.open(url, new=2)  # open in new tab\n",
    "mars_facts_df\n",
    "mars_facts_html_table"
   ]
  },
  {
   "cell_type": "code",
   "execution_count": 313,
   "metadata": {},
   "outputs": [],
   "source": [
    "r = requests.get(\"https://en.wikipedia.org/wiki/Python_(programming_language)\")\n",
    "soup = bs(r.content, \"html.parser\")\n",
    "\n",
    "soup = soup.body.find('div', attrs={'class':'toc'})\n",
    "\n",
    "# print (soup.div.text)"
   ]
  },
  {
   "cell_type": "code",
   "execution_count": 2,
   "metadata": {},
   "outputs": [],
   "source": [
    "executable_path = {'executable_path': 'chromedriver.exe'}\n",
    "browser = Browser('chrome', **executable_path, headless=False)\n",
    "url = 'https://astrogeology.usgs.gov/search/results?q=hemisphere+enhanced&k1=target&v1=Mars'\n",
    "browser.visit(url)"
   ]
  },
  {
   "cell_type": "code",
   "execution_count": null,
   "metadata": {
    "code_folding": [
     0
    ],
    "deletable": false,
    "editable": false,
    "run_control": {
     "frozen": true
    }
   },
   "outputs": [],
   "source": [
    "# HTML object FREEZE\n",
    "html = browser.html\n",
    "# Parse HTML with Beautiful Soup\n",
    "soup = bs(html, 'html.parser')\n",
    "\n",
    "img_url = soup.find('a', target='_blank').get('href')\n",
    "img_url"
   ]
  },
  {
   "cell_type": "code",
   "execution_count": 21,
   "metadata": {},
   "outputs": [
    {
     "name": "stdout",
     "output_type": "stream",
     "text": [
      "XXXXXXXXXOOOOOOOOOOOOOOOOVVVVVVVVVVVDDDDDDDDDDXXXX <h3>Cerberus Hemisphere Enhanced</h3>\n",
      "XXXXXXXXXOOOOOOOOOOOOOOOOVVVVVVVVVVVDDDDDDDDDDXXXX <h3>Schiaparelli Hemisphere Enhanced</h3>\n",
      "XXXXXXXXXOOOOOOOOOOOOOOOOVVVVVVVVVVVDDDDDDDDDDXXXX <h3>Syrtis Major Hemisphere Enhanced</h3>\n",
      "XXXXXXXXXOOOOOOOOOOOOOOOOVVVVVVVVVVVDDDDDDDDDDXXXX <h3>Valles Marineris Hemisphere Enhanced</h3>\n",
      "ARTICLES LENGTH 4 [<h3>Cerberus Hemisphere Enhanced</h3>, <h3>Schiaparelli Hemisphere Enhanced</h3>, <h3>Syrtis Major Hemisphere Enhanced</h3>, <h3>Valles Marineris Hemisphere Enhanced</h3>]\n",
      "-----------\n",
      "Cerberus Hemisphere Enhanced\n",
      "http://astropedia.astrogeology.usgs.gov/download/Mars/Viking/cerberus_enhanced.tif/full.jpg\n",
      "['Cerberus Hemisphere Enhanced']\n",
      "-----------\n",
      "Schiaparelli Hemisphere Enhanced\n",
      "http://astropedia.astrogeology.usgs.gov/download/Mars/Viking/schiaparelli_enhanced.tif/full.jpg\n",
      "['Cerberus Hemisphere Enhanced', 'Schiaparelli Hemisphere Enhanced']\n",
      "-----------\n",
      "Syrtis Major Hemisphere Enhanced\n",
      "http://astropedia.astrogeology.usgs.gov/download/Mars/Viking/syrtis_major_enhanced.tif/full.jpg\n",
      "['Cerberus Hemisphere Enhanced', 'Schiaparelli Hemisphere Enhanced', 'Syrtis Major Hemisphere Enhanced']\n",
      "-----------\n",
      "Valles Marineris Hemisphere Enhanced\n",
      "http://astropedia.astrogeology.usgs.gov/download/Mars/Viking/valles_marineris_enhanced.tif/full.jpg\n",
      "['Cerberus Hemisphere Enhanced', 'Schiaparelli Hemisphere Enhanced', 'Syrtis Major Hemisphere Enhanced', 'Valles Marineris Hemisphere Enhanced']\n"
     ]
    }
   ],
   "source": [
    "    # HTML object\n",
    "    html = browser.html\n",
    "    # Parse HTML with Beautiful Soup\n",
    "    soup = bs(html, 'html.parser')\n",
    "    # Retrieve all elements that contain book information\n",
    "    clickers = []\n",
    "#     articles = soup.find_all('div', class_='item')\n",
    "    articles = soup.find_all('div', class_=\"description\")\n",
    "#     print(articles)\n",
    "    for article in articles:\n",
    "        if article.h3:\n",
    "            a = article.h3\n",
    "            clickers.append(a)\n",
    "            print(\"XXXXXXXXXOOOOOOOOOOOOOOOOVVVVVVVVVVVDDDDDDDDDDXXXX\",a)\n",
    "\n",
    "    print(\"ARTICLES LENGTH\", len(clickers), clickers)\n",
    "    articles = clickers\n",
    "#     for clicker in clickers:\n",
    "#         clickers = article.find('h3').text\n",
    "#         print(clickers, \"XXXXXXXXXXXXXXXXXXXXXXXXXXXX\")\n",
    "\n",
    "#     articles = soup.find_all('a', class_=\"itemLink product-item\")\n",
    "#     articles = soup.find_all('div', class_=\"description\")\n",
    "    img_urls = []\n",
    "    titles = []\n",
    "    # Iterate through each book\n",
    "    for article in articles:\n",
    "        title = []\n",
    "        # Use Beautiful Soup's find() method to navigate and retrieve attributes\n",
    "#         title = article.find('h3').text\n",
    "        title = article.text\n",
    "\n",
    "#         link = article.find('a')\n",
    "        titles.append(title)\n",
    "#         print(article)\n",
    "        try:\n",
    "            browser.click_link_by_partial_text(title)\n",
    "    #         browser.click_link_by_partial_href(clickers)\n",
    "\n",
    "    #             time.sleep(1)\n",
    "            html = browser.html\n",
    "            soup = bs(html, 'html.parser')\n",
    "            img_url = soup.find('a', target='_blank').get('href')\n",
    "            img_urls.append(img_url)\n",
    "            browser.back()\n",
    "    #         browser.click_link_by_href(href)\n",
    "        except:\n",
    "            print(f'\"Exception! - Scraping Aborted\"{url}')\n",
    "            browser.back()\n",
    "    \n",
    "#         href = article.find('a').get('href')\n",
    "        print('-----------')\n",
    "        print(title)\n",
    "        print(img_url)\n",
    "        print(titles)\n",
    "\n",
    "#         print(articles[1])\n",
    "\n",
    "#         print('http://books.toscrape.com/' + href)"
   ]
  },
  {
   "cell_type": "code",
   "execution_count": 25,
   "metadata": {},
   "outputs": [
    {
     "name": "stdout",
     "output_type": "stream",
     "text": [
      "['title', 'title', 'title', 'title']\n",
      "['Cerberus Hemisphere Enhanced', 'Schiaparelli Hemisphere Enhanced', 'Syrtis Major Hemisphere Enhanced', 'Valles Marineris Hemisphere Enhanced']\n",
      "[{'title': ['Cerberus Hemisphere Enhanced',\n",
      "         'Schiaparelli Hemisphere Enhanced',\n",
      "         'Syrtis Major Hemisphere Enhanced',\n",
      "         'Valles Marineris Hemisphere Enhanced']},\n",
      "{'img_url': ['http://astropedia.astrogeology.usgs.gov/download/Mars/Viking/cerberus_enhanced.tif/full.jpg',\n",
      "           'http://astropedia.astrogeology.usgs.gov/download/Mars/Viking/schiaparelli_enhanced.tif/full.jpg',\n",
      "           'http://astropedia.astrogeology.usgs.gov/download/Mars/Viking/syrtis_major_enhanced.tif/full.jpg',\n",
      "           'http://astropedia.astrogeology.usgs.gov/download/Mars/Viking/valles_marineris_enhanced.tif/full.jpg']}]\n"
     ]
    },
    {
     "data": {
      "text/plain": [
       "list"
      ]
     },
     "execution_count": 25,
     "metadata": {},
     "output_type": "execute_result"
    }
   ],
   "source": [
    "title_keys = \"title\"\n",
    "title_keys =[title_keys] * 4 \n",
    "img_url_keys = \"img_url\"\n",
    "img_url_keys =[img_url_keys] * 4 \n",
    "print(title_keys)\n",
    "print(titles)\n",
    "hemispheres_dict = []\n",
    "hemisphere_url_dict = {}\n",
    "hemisphere_title_dict = {}\n",
    "i = 1\n",
    "for title in title_keys:\n",
    "    hemisphere_title_dict['title'] = titles[:i]\n",
    "    i += 1\n",
    "hemispheres_dict.append(hemisphere_title_dict)\n",
    "\n",
    "i = 1\n",
    "for img_url in img_url_keys:\n",
    "    hemisphere_url_dict['img_url'] = img_urls[:i]\n",
    "    i += 1\n",
    "hemispheres_dict.append(hemisphere_url_dict)\n",
    "\n",
    "pp = pprint.PrettyPrinter(indent=0)\n",
    "pp.pprint(hemispheres_dict)\n",
    "type(hemispheres_dict)"
   ]
  },
  {
   "cell_type": "code",
   "execution_count": 26,
   "metadata": {},
   "outputs": [
    {
     "data": {
      "text/plain": [
       "[{'Cerberus Hemisphere Enhanced': 'http://astropedia.astrogeology.usgs.gov/download/Mars/Viking/cerberus_enhanced.tif/full.jpg'},\n",
       " {'Schiaparelli Hemisphere Enhanced': 'http://astropedia.astrogeology.usgs.gov/download/Mars/Viking/schiaparelli_enhanced.tif/full.jpg'},\n",
       " {'Syrtis Major Hemisphere Enhanced': 'http://astropedia.astrogeology.usgs.gov/download/Mars/Viking/syrtis_major_enhanced.tif/full.jpg'},\n",
       " {'Valles Marineris Hemisphere Enhanced': 'http://astropedia.astrogeology.usgs.gov/download/Mars/Viking/valles_marineris_enhanced.tif/full.jpg'}]"
      ]
     },
     "execution_count": 26,
     "metadata": {},
     "output_type": "execute_result"
    }
   ],
   "source": [
    "# hemisphere_image_urls = {}\n",
    "dlist = []\n",
    "i = 0\n",
    "for title in titles:\n",
    "    hemisphere_image_urls = {}\n",
    "    hemisphere_image_urls[title]=img_urls[i]\n",
    "    dlist.append(hemisphere_image_urls)\n",
    "    i += 1\n",
    "dlist"
   ]
  },
  {
   "cell_type": "code",
   "execution_count": 18,
   "metadata": {
    "code_folding": [
     0
    ],
    "deletable": false,
    "editable": false,
    "run_control": {
     "frozen": true
    }
   },
   "outputs": [
    {
     "name": "stdout",
     "output_type": "stream",
     "text": [
      "{'title': '1'}\n",
      "{'title': '2'}\n",
      "{'title': '3'}\n",
      "{'title': '4'}\n"
     ]
    },
    {
     "data": {
      "text/plain": [
       "[{'title': '1'}, {'title': '2'}, {'title': '3'}, {'title': '4'}]"
      ]
     },
     "execution_count": 18,
     "metadata": {},
     "output_type": "execute_result"
    }
   ],
   "source": [
    "# WTF FREEZE\n",
    "titles = ['1','2','3','4']\n",
    "d = {}\n",
    "dlist = []\n",
    "\n",
    "for title in titles:\n",
    "    d = {}\n",
    "    d['title']=title\n",
    "    print(d)\n",
    "    dlist.append(d)\n",
    "dlist"
   ]
  },
  {
   "cell_type": "code",
   "execution_count": 27,
   "metadata": {},
   "outputs": [
    {
     "data": {
      "text/plain": [
       "[{'title': 'Cerberus Hemisphere Enhanced',\n",
       "  'img_url': 'http://astropedia.astrogeology.usgs.gov/download/Mars/Viking/cerberus_enhanced.tif/full.jpg'},\n",
       " {'title': 'Schiaparelli Hemisphere Enhanced',\n",
       "  'img_url': 'http://astropedia.astrogeology.usgs.gov/download/Mars/Viking/schiaparelli_enhanced.tif/full.jpg'},\n",
       " {'title': 'Syrtis Major Hemisphere Enhanced',\n",
       "  'img_url': 'http://astropedia.astrogeology.usgs.gov/download/Mars/Viking/syrtis_major_enhanced.tif/full.jpg'},\n",
       " {'title': 'Valles Marineris Hemisphere Enhanced',\n",
       "  'img_url': 'http://astropedia.astrogeology.usgs.gov/download/Mars/Viking/valles_marineris_enhanced.tif/full.jpg'}]"
      ]
     },
     "execution_count": 27,
     "metadata": {},
     "output_type": "execute_result"
    }
   ],
   "source": [
    "for x in range(4):\n",
    "    i = 0\n",
    "    hemisphere_image_urls = [\n",
    "        {\"title\": titles[0], \"img_url\": img_urls[0]},\n",
    "        {\"title\": titles[1], \"img_url\": img_urls[1]},\n",
    "        {\"title\": titles[2], \"img_url\": img_urls[2]},\n",
    "        {\"title\": titles[3], \"img_url\": img_urls[3]},\n",
    "    ]\n",
    "    i += 1\n",
    "\n",
    "# pp = pprint.PrettyPrinter(indent=0)\n",
    "# pp.pprint(hemisphere_image_urls)\n",
    "hemisphere_image_urls\n",
    "# img_urls"
   ]
  },
  {
   "cell_type": "code",
   "execution_count": null,
   "metadata": {},
   "outputs": [],
   "source": []
  },
  {
   "cell_type": "code",
   "execution_count": null,
   "metadata": {},
   "outputs": [],
   "source": []
  }
 ],
 "metadata": {
  "kernelspec": {
   "display_name": "Python 3",
   "language": "python",
   "name": "python3"
  },
  "language_info": {
   "codemirror_mode": {
    "name": "ipython",
    "version": 3
   },
   "file_extension": ".py",
   "mimetype": "text/x-python",
   "name": "python",
   "nbconvert_exporter": "python",
   "pygments_lexer": "ipython3",
   "version": "3.6.9"
  }
 },
 "nbformat": 4,
 "nbformat_minor": 2
}
